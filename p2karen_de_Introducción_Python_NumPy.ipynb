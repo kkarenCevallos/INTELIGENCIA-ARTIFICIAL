{
  "nbformat": 4,
  "nbformat_minor": 0,
  "metadata": {
    "colab": {
      "provenance": [],
      "include_colab_link": true
    },
    "kernelspec": {
      "name": "python3",
      "display_name": "Python 3"
    },
    "language_info": {
      "name": "python"
    }
  },
  "cells": [
    {
      "cell_type": "markdown",
      "metadata": {
        "id": "view-in-github",
        "colab_type": "text"
      },
      "source": [
        "<a href=\"https://colab.research.google.com/github/kkarenCevallos/INTELIGENCIA-ARTIFICIAL/blob/main/p2karen_de_Introducci%C3%B3n_Python_NumPy.ipynb\" target=\"_parent\"><img src=\"https://colab.research.google.com/assets/colab-badge.svg\" alt=\"Open In Colab\"/></a>"
      ]
    },
    {
      "cell_type": "code",
      "execution_count": null,
      "metadata": {
        "id": "mMjyh_Lh6Y_j",
        "colab": {
          "base_uri": "https://localhost:8080/"
        },
        "outputId": "ee31c9cd-d618-47a4-d5d0-26fc0d2b74d1"
      },
      "outputs": [
        {
          "output_type": "stream",
          "name": "stdout",
          "text": [
            "1.25.2\n"
          ]
        }
      ],
      "source": [
        "#Importe numpy como np y vea cual es la versión que esta utilizando\n",
        "\n",
        "import numpy as np\n",
        "print(np.__version__)"
      ]
    },
    {
      "cell_type": "code",
      "source": [
        "#CEVALLOS BRAVO KAREN MISHELLE\n",
        "#13/07/2024\n",
        "#INTELIGENCIA ARTIFICIAL"
      ],
      "metadata": {
        "id": "9rjaTjIVfypU"
      },
      "execution_count": null,
      "outputs": []
    },
    {
      "cell_type": "code",
      "source": [
        "# Crear una matriz 1D de números del 0 al 9\n",
        "\n",
        "array = np.arange(10)\n",
        "print(array)"
      ],
      "metadata": {
        "colab": {
          "base_uri": "https://localhost:8080/"
        },
        "id": "2x7qvA8v9R57",
        "outputId": "7ffcc24e-8fe1-45a2-de99-084ee8ffc839"
      },
      "execution_count": null,
      "outputs": [
        {
          "output_type": "stream",
          "name": "stdout",
          "text": [
            "[0 1 2 3 4 5 6 7 8 9]\n"
          ]
        }
      ]
    },
    {
      "cell_type": "code",
      "source": [
        "# Cree un vector aleatorio de tamaño 10 y reemplace el valor máximo por 0\n",
        "vector = np.random.rand(10)\n",
        "print(vector)\n",
        "\n",
        "print(\"\\nValor maximo cambiado a cero\")\n",
        "maximo = np.argmax(vector)\n",
        "vector[maximo] = 0\n",
        "print(vector)"
      ],
      "metadata": {
        "colab": {
          "base_uri": "https://localhost:8080/"
        },
        "id": "GGo5spEmA9Di",
        "outputId": "b2821ef3-7ca9-4ac2-af28-eea800482315"
      },
      "execution_count": null,
      "outputs": [
        {
          "output_type": "stream",
          "name": "stdout",
          "text": [
            "[0.02979579 0.76476325 0.14887706 0.87233556 0.34582956 0.9858201\n",
            " 0.3642116  0.96195039 0.80690707 0.77257036]\n",
            "\n",
            "Valor maximo cambiado a cero\n",
            "[0.02979579 0.76476325 0.14887706 0.87233556 0.34582956 0.\n",
            " 0.3642116  0.96195039 0.80690707 0.77257036]\n"
          ]
        }
      ]
    },
    {
      "cell_type": "code",
      "source": [
        "# Imprima el número 8 de la siguiente matriz:\n",
        "arr = np.array([[1,2,3,4,5], [6,7,8,9,10]])\n",
        "print(arr[1, 2])"
      ],
      "metadata": {
        "colab": {
          "base_uri": "https://localhost:8080/"
        },
        "id": "_-hrhLMQESoX",
        "outputId": "5704a4fb-58ee-4891-b745-b76a01e92477"
      },
      "execution_count": null,
      "outputs": [
        {
          "output_type": "stream",
          "name": "stdout",
          "text": [
            "8\n"
          ]
        }
      ]
    },
    {
      "cell_type": "code",
      "source": [
        "# Imprima los números [3, 4, 5] de la siguiente matriz:\n",
        "arr = np.array([1,2,3,4,5,6,7])\n",
        "print(arr[2:5])"
      ],
      "metadata": {
        "colab": {
          "base_uri": "https://localhost:8080/"
        },
        "id": "QL1T_cTtGJVx",
        "outputId": "99a85a38-4659-4238-b952-12db5f2486da"
      },
      "execution_count": null,
      "outputs": [
        {
          "output_type": "stream",
          "name": "stdout",
          "text": [
            "[3 4 5]\n"
          ]
        }
      ]
    },
    {
      "cell_type": "code",
      "source": [
        "# Imprima los últimos 4 números de la siguiente matriz:\n",
        "arr = np.array([1,2,3,4,5,6,7])\n",
        "print(arr[-4:])"
      ],
      "metadata": {
        "colab": {
          "base_uri": "https://localhost:8080/"
        },
        "id": "p083luIfGUoL",
        "outputId": "9cdaa1b1-410b-4fa5-fc4f-1362424e94d1"
      },
      "execution_count": null,
      "outputs": [
        {
          "output_type": "stream",
          "name": "stdout",
          "text": [
            "[4 5 6 7]\n"
          ]
        }
      ]
    },
    {
      "cell_type": "code",
      "source": [
        "# Cree una matriz numpy 3×3 de todos los True\n",
        "array = np.full((3, 3), True, dtype=bool)\n",
        "print(array)"
      ],
      "metadata": {
        "colab": {
          "base_uri": "https://localhost:8080/"
        },
        "id": "2STStKDJHM4c",
        "outputId": "0e008267-1f7a-4aab-95d5-d8942af95b93"
      },
      "execution_count": null,
      "outputs": [
        {
          "output_type": "stream",
          "name": "stdout",
          "text": [
            "[[ True  True  True]\n",
            " [ True  True  True]\n",
            " [ True  True  True]]\n"
          ]
        }
      ]
    },
    {
      "cell_type": "code",
      "source": [
        "# Extraer todos los números impares de la funcion arr\n",
        "odd_numbs = arr[arr % 2 != 0]\n",
        "print(odd_numbs)"
      ],
      "metadata": {
        "colab": {
          "base_uri": "https://localhost:8080/"
        },
        "id": "KtaJ1qj9III9",
        "outputId": "f137139d-6a14-4370-fd71-f301c3811495"
      },
      "execution_count": null,
      "outputs": [
        {
          "output_type": "stream",
          "name": "stdout",
          "text": [
            "[1 3 5 7]\n"
          ]
        }
      ]
    },
    {
      "cell_type": "code",
      "source": [
        "# Crea un vector con valores comprendidos entre 10 y 49\n",
        "vector = np.arange(10, 50)\n",
        "print(vector)"
      ],
      "metadata": {
        "colab": {
          "base_uri": "https://localhost:8080/"
        },
        "id": "y3gJq5qaImnk",
        "outputId": "077902b2-25b8-412f-c784-1b074cdc2c91"
      },
      "execution_count": null,
      "outputs": [
        {
          "output_type": "stream",
          "name": "stdout",
          "text": [
            "[10 11 12 13 14 15 16 17 18 19 20 21 22 23 24 25 26 27 28 29 30 31 32 33\n",
            " 34 35 36 37 38 39 40 41 42 43 44 45 46 47 48 49]\n"
          ]
        }
      ]
    },
    {
      "cell_type": "code",
      "source": [
        "# Invertir un vector (el primer elemento se convierte en el último)\n",
        "vector = np.array([1, 2, 3, 4, 5])\n",
        "vector_inver = vector[::-1]\n",
        "print(vector_inver)"
      ],
      "metadata": {
        "colab": {
          "base_uri": "https://localhost:8080/"
        },
        "id": "bRuhrUchI4mR",
        "outputId": "947dae61-119c-49aa-d5e0-266fd1a7f8cd"
      },
      "execution_count": null,
      "outputs": [
        {
          "output_type": "stream",
          "name": "stdout",
          "text": [
            "[5 4 3 2 1]\n"
          ]
        }
      ]
    },
    {
      "cell_type": "code",
      "source": [
        "#Cree una matriz de 10x10 con valores enteros aleatorios y encuentre los valores mínimo y máximo\n",
        "matriz = np.random.randint(0, 51, size=(10, 10))\n",
        "\n",
        "valor_minimo = np.min(matriz)\n",
        "valor_maximo = np.max(matriz)\n",
        "\n",
        "print(\"Matriz:\")\n",
        "print(matriz)\n",
        "print(\"\\nValor mínimo:\", valor_minimo)\n",
        "print(\"Valor máximo:\", valor_maximo)"
      ],
      "metadata": {
        "colab": {
          "base_uri": "https://localhost:8080/"
        },
        "id": "OJiPn3l7Jvk1",
        "outputId": "15667580-ca05-4f6a-c48e-55feeeac559d"
      },
      "execution_count": null,
      "outputs": [
        {
          "output_type": "stream",
          "name": "stdout",
          "text": [
            "Matriz:\n",
            "[[22  7 40  8  5 45 21  3 35 14]\n",
            " [14 49 19 48 32 17  0 25  4  6]\n",
            " [ 9 22 23  2 16 15 47 32 49  6]\n",
            " [45  9 35 14 31 48 26 50 48  1]\n",
            " [13  7 38 43 50 35 15 38 39 26]\n",
            " [49 21 11 14 43 34 24 48 23 10]\n",
            " [40 17 23 24  1 27  6 50  7 40]\n",
            " [19  6 10 32 24 41 24  3 42 13]\n",
            " [ 6 43 44 12 26 49  2 31 25 36]\n",
            " [ 2 39 16 13  4 47 43 39 12 12]]\n",
            "\n",
            "Valor mínimo: 0\n",
            "Valor máximo: 50\n"
          ]
        }
      ]
    },
    {
      "cell_type": "code",
      "source": [
        "# Crear una matriz de 3x3x3 con valores aleatorios\n",
        "array_3dd = np.random.random((3, 3, 3))\n",
        "print(array_3dd)"
      ],
      "metadata": {
        "colab": {
          "base_uri": "https://localhost:8080/"
        },
        "id": "awgODRX5KtkF",
        "outputId": "53d731f5-47c8-416e-acd1-648992adb5b4"
      },
      "execution_count": null,
      "outputs": [
        {
          "output_type": "stream",
          "name": "stdout",
          "text": [
            "[[[0.59236806 0.47918652 0.61805261]\n",
            "  [0.68165808 0.5118003  0.07792294]\n",
            "  [0.60097469 0.63315595 0.97838703]]\n",
            "\n",
            " [[0.09201449 0.2722641  0.1143961 ]\n",
            "  [0.42822681 0.71495327 0.09444946]\n",
            "  [0.63931281 0.02195736 0.81014639]]\n",
            "\n",
            " [[0.67531873 0.15496793 0.59216453]\n",
            "  [0.45788253 0.60588739 0.27253956]\n",
            "  [0.12547519 0.57800415 0.33226823]]]\n"
          ]
        }
      ]
    },
    {
      "cell_type": "code",
      "source": [
        "# Reemplace todos los números impares en arr con -1\n",
        "arr[arr % 2 != 0] = -1\n",
        "print(arr)"
      ],
      "metadata": {
        "colab": {
          "base_uri": "https://localhost:8080/"
        },
        "id": "RjCixGgoLDtI",
        "outputId": "069abcab-a66a-4443-ecde-56d3e52f9021"
      },
      "execution_count": null,
      "outputs": [
        {
          "output_type": "stream",
          "name": "stdout",
          "text": [
            "[-1  2 -1  4 -1  6 -1]\n"
          ]
        }
      ]
    },
    {
      "cell_type": "code",
      "source": [
        "# Creación de una matriz de tipo float\n",
        "arr_flt = np.array([1.5, 2.3, 3.1, 4.7, 5.5], dtype=float)\n",
        "\n",
        "print(arr_flt)\n",
        "print(arr_flt.dtype)"
      ],
      "metadata": {
        "colab": {
          "base_uri": "https://localhost:8080/"
        },
        "id": "R_yVz6rALaKG",
        "outputId": "dfb823d6-f247-4607-b904-84312019b396"
      },
      "execution_count": null,
      "outputs": [
        {
          "output_type": "stream",
          "name": "stdout",
          "text": [
            "[1.5 2.3 3.1 4.7 5.5]\n",
            "float64\n"
          ]
        }
      ]
    },
    {
      "cell_type": "code",
      "source": [
        "# Convertir una matriz 1D en una matriz 2D con 2 filas\n",
        "arr_1d = np.array([1, 2, 3, 4, 5, 6])\n",
        "\n",
        "arr_2d = arr_1d.reshape(2, -1)\n",
        "\n",
        "print(\"Array 1D:\")\n",
        "print(arr_1d)\n",
        "print(\"\\nArray 2D con 2 filas:\")\n",
        "print(arr_2d)"
      ],
      "metadata": {
        "colab": {
          "base_uri": "https://localhost:8080/"
        },
        "id": "sPtiQnVDMVZL",
        "outputId": "ab662e4c-6900-4d01-b4b4-2dc764b22824"
      },
      "execution_count": null,
      "outputs": [
        {
          "output_type": "stream",
          "name": "stdout",
          "text": [
            "Array 1D:\n",
            "[1 2 3 4 5 6]\n",
            "\n",
            "Array 2D con 2 filas:\n",
            "[[1 2 3]\n",
            " [4 5 6]]\n"
          ]
        }
      ]
    },
    {
      "cell_type": "code",
      "source": [
        "# ¿Cómo encontrar valores comunes entre dos matrices?\n",
        "\n",
        "m1 = np.random.randint(0,10,10)\n",
        "m2 = np.random.randint(0,10,10)\n",
        "\n",
        "valores_comunes = np.intersect1d(Z1, Z2)\n",
        "\n",
        "print(\"m1:\", Z1)\n",
        "print(\"m2:\", Z2)\n",
        "print(\"Valores comunes:\", valores_comunes)"
      ],
      "metadata": {
        "colab": {
          "base_uri": "https://localhost:8080/"
        },
        "id": "5YiE21L_M2Y2",
        "outputId": "8338928e-131e-4ba5-e805-1c987c208983"
      },
      "execution_count": null,
      "outputs": [
        {
          "output_type": "stream",
          "name": "stdout",
          "text": [
            "m1: [0 0 6 0 3 9 9 9 3 1]\n",
            "m2: [6 0 3 1 8 7 9 8 0 3]\n",
            "Valores comunes: [0 1 3 6 9]\n"
          ]
        }
      ]
    },
    {
      "cell_type": "code",
      "source": [
        "#  Considere dos matrices aleatorias A y B, verifique si son iguales\n",
        "\n",
        "mA = np.random.randint(0,2,5)\n",
        "mB = np.random.randint(0,2,5)\n",
        "\n",
        "comparacion = np.array_equal(mA, mB)\n",
        "\n",
        "print(\"mA:\", A)\n",
        "print(\"mB:\", B)\n",
        "print(\"\\n¿Son iguales?:\", comparacion)"
      ],
      "metadata": {
        "colab": {
          "base_uri": "https://localhost:8080/"
        },
        "id": "m6VQvZsENTaE",
        "outputId": "1e574277-eb35-4af0-be26-67e0f31d5361"
      },
      "execution_count": null,
      "outputs": [
        {
          "output_type": "stream",
          "name": "stdout",
          "text": [
            "mA: [1 0 1 0 0]\n",
            "mB: [1 1 0 0 1]\n",
            "\n",
            "¿Son iguales?: False\n"
          ]
        }
      ]
    },
    {
      "cell_type": "code",
      "source": [
        "# Apilar las matrices a y b verticalmente\n",
        "vA = np.vstack((A))\n",
        "vB = np.vstack((B))\n",
        "\n",
        "apilado_v = np.array([[vA],[vB]])\n",
        "print(apilado_v)"
      ],
      "metadata": {
        "colab": {
          "base_uri": "https://localhost:8080/"
        },
        "id": "yB_QwtDCO2hZ",
        "outputId": "d842245d-b04d-40ce-d652-099438261a54"
      },
      "execution_count": null,
      "outputs": [
        {
          "output_type": "stream",
          "name": "stdout",
          "text": [
            "[[[[1]\n",
            "   [0]\n",
            "   [1]\n",
            "   [0]\n",
            "   [0]]]\n",
            "\n",
            "\n",
            " [[[1]\n",
            "   [1]\n",
            "   [0]\n",
            "   [0]\n",
            "   [1]]]]\n"
          ]
        }
      ]
    },
    {
      "cell_type": "code",
      "source": [
        "# Apile las matrices a y b horizontalmente.\n",
        "hA = np.hstack((A))\n",
        "hB = np.hstack((B))\n",
        "\n",
        "apilado_h = np.array([[hA],[hB]])\n",
        "print(apilado_h)"
      ],
      "metadata": {
        "colab": {
          "base_uri": "https://localhost:8080/"
        },
        "id": "bc8GIjaqSies",
        "outputId": "205a1fb2-7664-4c6a-e04d-369ab3b73b00"
      },
      "execution_count": null,
      "outputs": [
        {
          "output_type": "stream",
          "name": "stdout",
          "text": [
            "[[[1 0 1 0 0]]\n",
            "\n",
            " [[1 1 0 0 1]]]\n"
          ]
        }
      ]
    },
    {
      "cell_type": "code",
      "source": [
        "# Obtenga todos los elementos entre 5 y 10 de la matriz tmp.\n",
        "\n",
        "tmp = np.arange(15)\n",
        "resultado = tmp[(tmp >= 5) & (tmp <= 10)]\n",
        "\n",
        "print(tmp)\n",
        "print(\"\\nElementos entre 5 y 10:\", resultado)"
      ],
      "metadata": {
        "colab": {
          "base_uri": "https://localhost:8080/"
        },
        "id": "baOSSBWSTR0v",
        "outputId": "4355418a-0a44-412b-c99f-1778242a7430"
      },
      "execution_count": null,
      "outputs": [
        {
          "output_type": "stream",
          "name": "stdout",
          "text": [
            "[ 0  1  2  3  4  5  6  7  8  9 10 11 12 13 14]\n",
            "\n",
            "Elementos entre 5 y 10: [ 5  6  7  8  9 10]\n"
          ]
        }
      ]
    },
    {
      "cell_type": "code",
      "source": [
        "# ¿Cómo hacer que una función de python que maneja escalares funcione en matrices numpy?\n",
        "# Salida deseada:\n",
        "# A = np.array([5, 7, 9, 8, 6, 4, 5])\n",
        "# B = np.array([6, 3, 4, 8, 9, 7, 1])\n",
        "# pair_max(a, b)\n",
        "# #> array([ 6., 7., 9., 8., 9., 7., 5.])\n",
        "\n",
        "def maxx(x, y):\n",
        "    \"\"\"Get the maximum of two items\"\"\"\n",
        "    if x >= y:\n",
        "        return x\n",
        "    else:\n",
        "        return y\n",
        "\n",
        "# Vectorizamos la función maxx\n",
        "pair_max = np.vectorize(maxx)\n",
        "\n",
        "A = np.array([5, 7, 9, 8, 6, 4, 5])\n",
        "B = np.array([6, 3, 4, 8, 9, 7, 1])\n",
        "\n",
        "resultado = pair_max(A, B)\n",
        "\n",
        "print(\"Array A:\", A)\n",
        "print(\"Array B:\", B)\n",
        "print(\"\\nResultado:\", resultado)"
      ],
      "metadata": {
        "colab": {
          "base_uri": "https://localhost:8080/"
        },
        "id": "YJsj-Hc9UH0f",
        "outputId": "f67a1d40-30d9-4036-b76b-adc0d62192e0"
      },
      "execution_count": null,
      "outputs": [
        {
          "output_type": "stream",
          "name": "stdout",
          "text": [
            "Array A: [5 7 9 8 6 4 5]\n",
            "Array B: [6 3 4 8 9 7 1]\n",
            "\n",
            "Resultado: [6 7 9 8 9 7 5]\n"
          ]
        }
      ]
    },
    {
      "cell_type": "code",
      "source": [
        "# Intercambie las columnas 1 y 2 en la matriz arr.\n",
        "\n",
        "arr = np.arange(9).reshape(3,3)\n",
        "print(arr)\n",
        "\n",
        "# intercanbiadas columnas 1 y 2\n",
        "\n",
        "\n",
        "arr[:, [1, 2]] = arr[:, [2, 1]]\n",
        "\n",
        "print(\"\\nColumna 1 y 2 intercambiadas:\")\n",
        "print(arr)"
      ],
      "metadata": {
        "colab": {
          "base_uri": "https://localhost:8080/"
        },
        "id": "gcZ0Bvn0VeqO",
        "outputId": "ca42e1cf-b606-4af1-e8d0-5d9ed34918a4"
      },
      "execution_count": null,
      "outputs": [
        {
          "output_type": "stream",
          "name": "stdout",
          "text": [
            "[[0 1 2]\n",
            " [3 4 5]\n",
            " [6 7 8]]\n",
            "\n",
            "Columna 1 y 2 intercambiadas:\n",
            "[[0 2 1]\n",
            " [3 5 4]\n",
            " [6 8 7]]\n"
          ]
        }
      ]
    },
    {
      "cell_type": "code",
      "source": [
        "# Crea una matriz 2D de forma 5x3 para contener números decimales aleatorios entre 5 y 10.\n",
        "# La salida deseada debe ser como la siguiente:\n",
        "\n",
        "\n",
        "#  [[ 8.50061025  9.10531502  6.85867783]\n",
        "#   [ 9.76262069  9.87717411  7.13466701]\n",
        "#   [ 7.48966403  8.33409158  6.16808631]\n",
        "#   [ 7.75010551  9.94535696  5.27373226]\n",
        "#   [ 8.0850361   5.56165518  7.31244004]]\n",
        "\n",
        "\n",
        "array2 = np.random.uniform(5, 10, size=(5, 3))\n",
        "\n",
        "print(array2)"
      ],
      "metadata": {
        "colab": {
          "base_uri": "https://localhost:8080/"
        },
        "id": "5ZdUSMUEWBeg",
        "outputId": "b1e9f757-da98-476f-8a08-9b75bf5b7032"
      },
      "execution_count": null,
      "outputs": [
        {
          "output_type": "stream",
          "name": "stdout",
          "text": [
            "[[9.25318414 7.71276228 7.10042972]\n",
            " [5.78935013 7.06906275 5.7358448 ]\n",
            " [9.46843575 5.39986686 8.19854411]\n",
            " [9.63422574 5.80831202 7.34058552]\n",
            " [6.10147232 7.19240506 5.75528878]]\n"
          ]
        }
      ]
    }
  ]
}