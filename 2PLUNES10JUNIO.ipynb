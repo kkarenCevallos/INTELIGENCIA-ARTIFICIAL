{
  "nbformat": 4,
  "nbformat_minor": 0,
  "metadata": {
    "colab": {
      "provenance": [],
      "authorship_tag": "ABX9TyOKXvsSjfeH2FBFuNvaNNCj",
      "include_colab_link": true
    },
    "kernelspec": {
      "name": "python3",
      "display_name": "Python 3"
    },
    "language_info": {
      "name": "python"
    }
  },
  "cells": [
    {
      "cell_type": "markdown",
      "metadata": {
        "id": "view-in-github",
        "colab_type": "text"
      },
      "source": [
        "<a href=\"https://colab.research.google.com/github/kkarenCevallos/INTELIGENCIA-ARTIFICIAL/blob/main/2PLUNES10JUNIO.ipynb\" target=\"_parent\"><img src=\"https://colab.research.google.com/assets/colab-badge.svg\" alt=\"Open In Colab\"/></a>"
      ]
    },
    {
      "cell_type": "code",
      "execution_count": null,
      "metadata": {
        "colab": {
          "base_uri": "https://localhost:8080/"
        },
        "id": "a7v9NwC--5v7",
        "outputId": "7a165f78-a7db-49c4-dce1-bf0a5ae4286c"
      },
      "outputs": [
        {
          "output_type": "stream",
          "name": "stdout",
          "text": [
            "3.10.12 (main, Nov 20 2023, 15:14:05) [GCC 11.4.0]\n"
          ]
        }
      ],
      "source": [
        "import sys\n",
        "print(sys.version)"
      ]
    },
    {
      "cell_type": "code",
      "source": [
        "myNumber=3\n",
        "myNumberDECIMAL=3.0\n",
        "state=True"
      ],
      "metadata": {
        "id": "p3696aP8C5FX"
      },
      "execution_count": null,
      "outputs": []
    },
    {
      "cell_type": "code",
      "source": [
        "print(f'valor entero: {myNumber}')\n",
        "print(f'valor decimal: {myNumberDECIMAL}')\n",
        "print('valor entero es =',myNumber)"
      ],
      "metadata": {
        "colab": {
          "base_uri": "https://localhost:8080/"
        },
        "id": "gM5secpiDYhv",
        "outputId": "a4a4d6af-2449-4f52-fbda-1a54e458dc01"
      },
      "execution_count": null,
      "outputs": [
        {
          "output_type": "stream",
          "name": "stdout",
          "text": [
            "valor entero: 3\n",
            "valor decimal: 3.0\n",
            "valor entero es = 3\n"
          ]
        }
      ]
    },
    {
      "cell_type": "code",
      "source": [
        "aux1=10\n",
        "aux2=2\n",
        "print(\"La suma de las variables aux1 + aux2 = \",aux1+aux2)"
      ],
      "metadata": {
        "colab": {
          "base_uri": "https://localhost:8080/"
        },
        "id": "VIDR2w0JEnvX",
        "outputId": "4fd6a3b8-978a-45ea-c292-3fc4fadcb853"
      },
      "execution_count": null,
      "outputs": [
        {
          "output_type": "stream",
          "name": "stdout",
          "text": [
            "La suma de las variables aux1 + aux2 =  12\n"
          ]
        }
      ]
    },
    {
      "cell_type": "code",
      "source": [
        "aux1=14\n",
        "aux2=2\n",
        "print(\"La resta de las variables aux1 - aux2 = \",aux1-aux2)"
      ],
      "metadata": {
        "colab": {
          "base_uri": "https://localhost:8080/"
        },
        "id": "u7VTur_ME_fn",
        "outputId": "e30bc317-59ff-4123-f647-fa7dd15feb7c"
      },
      "execution_count": null,
      "outputs": [
        {
          "output_type": "stream",
          "name": "stdout",
          "text": [
            "La resta de las variables aux1 - aux2 =  12\n"
          ]
        }
      ]
    },
    {
      "cell_type": "code",
      "source": [
        "aux1=10\n",
        "aux2=2\n",
        "print(\"La multiplicación de las variables aux1 * aux2 = \",aux1*aux2)"
      ],
      "metadata": {
        "colab": {
          "base_uri": "https://localhost:8080/"
        },
        "id": "IX2ziJ7iFKgX",
        "outputId": "51b2c806-69aa-4b54-8b5c-19c281e381be"
      },
      "execution_count": null,
      "outputs": [
        {
          "output_type": "stream",
          "name": "stdout",
          "text": [
            "La multiplicación de las variables aux1 * aux2 =  20\n"
          ]
        }
      ]
    },
    {
      "cell_type": "code",
      "source": [
        "aux1=10\n",
        "aux2=2\n",
        "print(\"La división de las variables aux1 / aux2 = \",aux1/aux2)"
      ],
      "metadata": {
        "colab": {
          "base_uri": "https://localhost:8080/"
        },
        "id": "_ZH1hAZSFSX3",
        "outputId": "1a4044b9-6a2c-45d8-bbbf-2f1b79bd249b"
      },
      "execution_count": null,
      "outputs": [
        {
          "output_type": "stream",
          "name": "stdout",
          "text": [
            "La división de las variables aux1 / aux2 =  5.0\n"
          ]
        }
      ]
    },
    {
      "cell_type": "code",
      "source": [
        "tmp=aux1**aux2\n",
        "print(f'El resultado es $10*2$={tmp}')"
      ],
      "metadata": {
        "colab": {
          "base_uri": "https://localhost:8080/"
        },
        "id": "ylyKb8AtFaoP",
        "outputId": "266c8a6f-d639-4fec-8405-ad75e19005dc"
      },
      "execution_count": null,
      "outputs": [
        {
          "output_type": "stream",
          "name": "stdout",
          "text": [
            "El resultado es $10*2$=100\n"
          ]
        }
      ]
    },
    {
      "cell_type": "code",
      "source": [
        "var1='hola'\n",
        "var2='!,Mishelle'\n",
        "print(var1+var2)"
      ],
      "metadata": {
        "colab": {
          "base_uri": "https://localhost:8080/"
        },
        "id": "vsUQ2IQ7F_qG",
        "outputId": "8d180cae-a3ba-420b-8d60-ee1ec220a9c3"
      },
      "execution_count": null,
      "outputs": [
        {
          "output_type": "stream",
          "name": "stdout",
          "text": [
            "hola!,Mishelle\n"
          ]
        }
      ]
    },
    {
      "cell_type": "code",
      "source": [
        "var1='hola'\n",
        "var2=' Karen'\n",
        "print(var1+var2)"
      ],
      "metadata": {
        "colab": {
          "base_uri": "https://localhost:8080/"
        },
        "id": "8u-cc51cGV1W",
        "outputId": "84333716-0884-4fcf-f45d-2b7eff194288"
      },
      "execution_count": null,
      "outputs": [
        {
          "output_type": "stream",
          "name": "stdout",
          "text": [
            "hola Karen\n"
          ]
        }
      ]
    },
    {
      "cell_type": "code",
      "source": [
        "print(3*var1)"
      ],
      "metadata": {
        "colab": {
          "base_uri": "https://localhost:8080/"
        },
        "id": "mc3CTtdpGlYn",
        "outputId": "8931b2de-87a0-4e8a-858b-3ac18866db14"
      },
      "execution_count": null,
      "outputs": [
        {
          "output_type": "stream",
          "name": "stdout",
          "text": [
            "holaholahola\n"
          ]
        }
      ]
    },
    {
      "cell_type": "code",
      "source": [
        "num1=10\n",
        "num2=10.5\n"
      ],
      "metadata": {
        "id": "2mxi-75YGsbv"
      },
      "execution_count": null,
      "outputs": []
    },
    {
      "cell_type": "code",
      "source": [
        "print('El tipo de número es: ',type(num1))\n",
        "print('El tipo de número es: ',type(num2))"
      ],
      "metadata": {
        "colab": {
          "base_uri": "https://localhost:8080/"
        },
        "id": "2wttmWsZG5xW",
        "outputId": "daebb905-212e-4b6c-c015-73886c1af429"
      },
      "execution_count": null,
      "outputs": [
        {
          "output_type": "stream",
          "name": "stdout",
          "text": [
            "El tipo de número es:  <class 'int'>\n",
            "El tipo de número es:  <class 'float'>\n"
          ]
        }
      ]
    },
    {
      "cell_type": "code",
      "source": [
        "#MARTES 25 DE JUMIO DEL 2024\n",
        "tmp = list()\n",
        "tmp.append(2)\n",
        "print(tmp)\n",
        "tmp.append('karen')\n",
        "print(tmp)\n",
        "tmp.append(5)\n",
        "print(tmp)\n",
        "tmp.append('mishelle')\n",
        "print(tmp)\n",
        "print(tmp[3])\n",
        "aux= tmp[3]\n",
        "print(aux.upper())\n",
        "\n",
        "tmp1= 'hello'\n",
        "print(tmp1.capitalize())\n",
        "\n",
        "\n",
        "aux1=[1,2,3,4,5,6,7,8,9,10]\n",
        "print(aux1)\n",
        "\n",
        "aux1[4]=10\n",
        "print(aux1)\n",
        "\n",
        "\n",
        "print(aux1[-1])\n",
        "print(aux1[3:7])\n",
        "print(aux1[0:5])\n",
        "print(aux1[:5])\n",
        "\n",
        "aux2=list()\n",
        "for i in range(100):\n",
        "  aux2.append(i)\n",
        "print(aux2[:20])\n",
        "\n",
        "aux3=list()\n",
        "for indx, elem in enumerate(aux2):\n",
        "  if aux2[indx]%2==0:\n",
        "    aux3.append(aux2[indx])\n",
        "\n",
        "print(aux3)\n",
        "\n",
        "\n",
        "animales=['gato', 'perro', 'mono']\n",
        "for animal in animales:\n",
        "  print(animal)\n",
        "\n",
        "\n",
        "tmp3=[i**2 for i in range(10) if i%2==0]\n",
        "print(tmp3)"
      ],
      "metadata": {
        "colab": {
          "base_uri": "https://localhost:8080/"
        },
        "id": "1dLdhm3Jq9Hf",
        "outputId": "e43513a1-8bd1-4cb3-876c-e7fd1d5e900f"
      },
      "execution_count": null,
      "outputs": [
        {
          "output_type": "stream",
          "name": "stdout",
          "text": [
            "[2]\n",
            "[2, 'karen']\n",
            "[2, 'karen', 5]\n",
            "[2, 'karen', 5, 'mishelle']\n",
            "mishelle\n",
            "MISHELLE\n",
            "Hello\n",
            "[1, 2, 3, 4, 5, 6, 7, 8, 9, 10]\n",
            "[1, 2, 3, 4, 10, 6, 7, 8, 9, 10]\n",
            "10\n",
            "[4, 10, 6, 7]\n",
            "[1, 2, 3, 4, 10]\n",
            "[1, 2, 3, 4, 10]\n",
            "[0, 1, 2, 3, 4, 5, 6, 7, 8, 9, 10, 11, 12, 13, 14, 15, 16, 17, 18, 19]\n",
            "[0, 2, 4, 6, 8, 10, 12, 14, 16, 18, 20, 22, 24, 26, 28, 30, 32, 34, 36, 38, 40, 42, 44, 46, 48, 50, 52, 54, 56, 58, 60, 62, 64, 66, 68, 70, 72, 74, 76, 78, 80, 82, 84, 86, 88, 90, 92, 94, 96, 98]\n",
            "gato\n",
            "perro\n",
            "mono\n",
            "[0, 4, 16, 36, 64]\n"
          ]
        }
      ]
    },
    {
      "cell_type": "code",
      "source": [
        "myDictionary={'cat':'cute', 'dog':'big'}\n",
        "print(myDictionary['cat'])"
      ],
      "metadata": {
        "colab": {
          "base_uri": "https://localhost:8080/"
        },
        "id": "S8jCps6ewAC4",
        "outputId": "03b50bff-2694-4dea-aaea-87b0a5a2303a"
      },
      "execution_count": null,
      "outputs": [
        {
          "output_type": "stream",
          "name": "stdout",
          "text": [
            "cute\n"
          ]
        }
      ]
    },
    {
      "cell_type": "code",
      "source": [
        "myDictAux={'mono':'blanco', 'paloma':'cafe'}\n",
        "myDictionary.update(myDictAux)\n",
        "print(myDictionary)\n",
        "for key, value in myDictionary.items:\n",
        "  print('key: {key} value: {value}')"
      ],
      "metadata": {
        "id": "qUDCJ4QnxKOx"
      },
      "execution_count": null,
      "outputs": []
    }
  ]
}