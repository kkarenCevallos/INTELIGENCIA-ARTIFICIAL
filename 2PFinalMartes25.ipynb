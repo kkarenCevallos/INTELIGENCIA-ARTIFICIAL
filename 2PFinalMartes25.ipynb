{
  "nbformat": 4,
  "nbformat_minor": 0,
  "metadata": {
    "colab": {
      "provenance": [],
      "toc_visible": true,
      "authorship_tag": "ABX9TyOzZDGSDYg2tBvS784niopK",
      "include_colab_link": true
    },
    "kernelspec": {
      "name": "python3",
      "display_name": "Python 3"
    },
    "language_info": {
      "name": "python"
    }
  },
  "cells": [
    {
      "cell_type": "markdown",
      "metadata": {
        "id": "view-in-github",
        "colab_type": "text"
      },
      "source": [
        "<a href=\"https://colab.research.google.com/github/kkarenCevallos/INTELIGENCIA-ARTIFICIAL/blob/main/2PFinalMartes25.ipynb\" target=\"_parent\"><img src=\"https://colab.research.google.com/assets/colab-badge.svg\" alt=\"Open In Colab\"/></a>"
      ]
    },
    {
      "cell_type": "code",
      "execution_count": null,
      "metadata": {
        "colab": {
          "base_uri": "https://localhost:8080/"
        },
        "id": "a7v9NwC--5v7",
        "outputId": "7a165f78-a7db-49c4-dce1-bf0a5ae4286c"
      },
      "outputs": [
        {
          "output_type": "stream",
          "name": "stdout",
          "text": [
            "3.10.12 (main, Nov 20 2023, 15:14:05) [GCC 11.4.0]\n"
          ]
        }
      ],
      "source": [
        "import sys\n",
        "print(sys.version)"
      ]
    },
    {
      "cell_type": "code",
      "source": [
        "myNumber=3\n",
        "myNumberDECIMAL=3.0\n",
        "state=True"
      ],
      "metadata": {
        "id": "p3696aP8C5FX"
      },
      "execution_count": null,
      "outputs": []
    },
    {
      "cell_type": "code",
      "source": [
        "print(f'valor entero: {myNumber}')\n",
        "print(f'valor decimal: {myNumberDECIMAL}')\n",
        "print('valor entero es =',myNumber)"
      ],
      "metadata": {
        "colab": {
          "base_uri": "https://localhost:8080/"
        },
        "id": "gM5secpiDYhv",
        "outputId": "a4a4d6af-2449-4f52-fbda-1a54e458dc01"
      },
      "execution_count": null,
      "outputs": [
        {
          "output_type": "stream",
          "name": "stdout",
          "text": [
            "valor entero: 3\n",
            "valor decimal: 3.0\n",
            "valor entero es = 3\n"
          ]
        }
      ]
    },
    {
      "cell_type": "code",
      "source": [
        "aux1=10\n",
        "aux2=2\n",
        "print(\"La suma de las variables aux1 + aux2 = \",aux1+aux2)"
      ],
      "metadata": {
        "colab": {
          "base_uri": "https://localhost:8080/"
        },
        "id": "VIDR2w0JEnvX",
        "outputId": "4fd6a3b8-978a-45ea-c292-3fc4fadcb853"
      },
      "execution_count": null,
      "outputs": [
        {
          "output_type": "stream",
          "name": "stdout",
          "text": [
            "La suma de las variables aux1 + aux2 =  12\n"
          ]
        }
      ]
    },
    {
      "cell_type": "code",
      "source": [
        "aux1=14\n",
        "aux2=2\n",
        "print(\"La resta de las variables aux1 - aux2 = \",aux1-aux2)"
      ],
      "metadata": {
        "colab": {
          "base_uri": "https://localhost:8080/"
        },
        "id": "u7VTur_ME_fn",
        "outputId": "e30bc317-59ff-4123-f647-fa7dd15feb7c"
      },
      "execution_count": null,
      "outputs": [
        {
          "output_type": "stream",
          "name": "stdout",
          "text": [
            "La resta de las variables aux1 - aux2 =  12\n"
          ]
        }
      ]
    },
    {
      "cell_type": "code",
      "source": [
        "aux1=10\n",
        "aux2=2\n",
        "print(\"La multiplicación de las variables aux1 * aux2 = \",aux1*aux2)"
      ],
      "metadata": {
        "colab": {
          "base_uri": "https://localhost:8080/"
        },
        "id": "IX2ziJ7iFKgX",
        "outputId": "51b2c806-69aa-4b54-8b5c-19c281e381be"
      },
      "execution_count": null,
      "outputs": [
        {
          "output_type": "stream",
          "name": "stdout",
          "text": [
            "La multiplicación de las variables aux1 * aux2 =  20\n"
          ]
        }
      ]
    },
    {
      "cell_type": "code",
      "source": [
        "aux1=10\n",
        "aux2=2\n",
        "print(\"La división de las variables aux1 / aux2 = \",aux1/aux2)"
      ],
      "metadata": {
        "colab": {
          "base_uri": "https://localhost:8080/"
        },
        "id": "_ZH1hAZSFSX3",
        "outputId": "1a4044b9-6a2c-45d8-bbbf-2f1b79bd249b"
      },
      "execution_count": null,
      "outputs": [
        {
          "output_type": "stream",
          "name": "stdout",
          "text": [
            "La división de las variables aux1 / aux2 =  5.0\n"
          ]
        }
      ]
    },
    {
      "cell_type": "code",
      "source": [
        "tmp=aux1**aux2\n",
        "print(f'El resultado es $10*2$={tmp}')"
      ],
      "metadata": {
        "colab": {
          "base_uri": "https://localhost:8080/"
        },
        "id": "ylyKb8AtFaoP",
        "outputId": "266c8a6f-d639-4fec-8405-ad75e19005dc"
      },
      "execution_count": null,
      "outputs": [
        {
          "output_type": "stream",
          "name": "stdout",
          "text": [
            "El resultado es $10*2$=100\n"
          ]
        }
      ]
    },
    {
      "cell_type": "code",
      "source": [
        "var1='hola'\n",
        "var2='!,Mishelle'\n",
        "print(var1+var2)"
      ],
      "metadata": {
        "colab": {
          "base_uri": "https://localhost:8080/"
        },
        "id": "vsUQ2IQ7F_qG",
        "outputId": "8d180cae-a3ba-420b-8d60-ee1ec220a9c3"
      },
      "execution_count": null,
      "outputs": [
        {
          "output_type": "stream",
          "name": "stdout",
          "text": [
            "hola!,Mishelle\n"
          ]
        }
      ]
    },
    {
      "cell_type": "code",
      "source": [
        "var1='hola'\n",
        "var2=' Karen'\n",
        "print(var1+var2)"
      ],
      "metadata": {
        "colab": {
          "base_uri": "https://localhost:8080/"
        },
        "id": "8u-cc51cGV1W",
        "outputId": "84333716-0884-4fcf-f45d-2b7eff194288"
      },
      "execution_count": null,
      "outputs": [
        {
          "output_type": "stream",
          "name": "stdout",
          "text": [
            "hola Karen\n"
          ]
        }
      ]
    },
    {
      "cell_type": "code",
      "source": [
        "print(3*var1)"
      ],
      "metadata": {
        "colab": {
          "base_uri": "https://localhost:8080/"
        },
        "id": "mc3CTtdpGlYn",
        "outputId": "8931b2de-87a0-4e8a-858b-3ac18866db14"
      },
      "execution_count": null,
      "outputs": [
        {
          "output_type": "stream",
          "name": "stdout",
          "text": [
            "holaholahola\n"
          ]
        }
      ]
    },
    {
      "cell_type": "code",
      "source": [
        "num1=10\n",
        "num2=10.5\n"
      ],
      "metadata": {
        "id": "2mxi-75YGsbv"
      },
      "execution_count": null,
      "outputs": []
    },
    {
      "cell_type": "code",
      "source": [
        "print('El tipo de número es: ',type(num1))\n",
        "print('El tipo de número es: ',type(num2))"
      ],
      "metadata": {
        "colab": {
          "base_uri": "https://localhost:8080/"
        },
        "id": "2wttmWsZG5xW",
        "outputId": "daebb905-212e-4b6c-c015-73886c1af429"
      },
      "execution_count": null,
      "outputs": [
        {
          "output_type": "stream",
          "name": "stdout",
          "text": [
            "El tipo de número es:  <class 'int'>\n",
            "El tipo de número es:  <class 'float'>\n"
          ]
        }
      ]
    },
    {
      "cell_type": "code",
      "source": [
        "#TUESDAY 25 JUNE 2024\n",
        "#tmp=list()\n",
        "#tmp.append(2)\n",
        "#print(tmp)\n",
        "#tmp.append('mishelle')\n",
        "#print(tmp)\n",
        "#tmp.append(2)\n",
        "#tmp.append('merly')\n",
        "#print(tmp)\n",
        "#print(tmp[3])\n",
        "#aux=tmp[3]\n",
        "# aux.capitalize()\n",
        "# print(aux)\n",
        "#print(aux.upper())\n",
        "#tmp1='hello'\n",
        "#print(tmp1.capitalize())\n",
        "\n",
        "#aux1=[1,2,3,4,5,6,7,8,9,10]\n",
        "#print(aux1)\n",
        "\n",
        "#aux1[4]=10\n",
        "#print(aux1)\n",
        "\n",
        "#print(aux1[-1])\n",
        "\n",
        "#print(aux1[3:7])\n",
        "\n",
        "#print(aux1[0:5])\n",
        "\n",
        "#print(aux1[:5])\n",
        "\n",
        "#aux2=list()\n",
        "#for i in range(100):\n",
        "#  aux2.append(i)\n",
        "#  print(aux2[:20])\n",
        "\n",
        "#aux3=list()\n",
        "#for indx, elem in enumerate(aux2):\n",
        "#  if aux2[indx]%2==0:\n",
        "#    aux3.append(aux2[indx]**2)\n",
        "#    print(aux3)\n",
        "\n",
        "\n",
        "animals=['cat','dog','monky','rabbit']\n",
        "for animals in animals:\n",
        "  print(animals)\n",
        "\n",
        "tmp3=[i**2 for i in range(10) if i%2==0]\n",
        "print(tmp3)"
      ],
      "metadata": {
        "colab": {
          "base_uri": "https://localhost:8080/"
        },
        "id": "mX8JLIEZnStf",
        "outputId": "80ace64e-7b63-441d-f663-b7907482d54a"
      },
      "execution_count": null,
      "outputs": [
        {
          "output_type": "stream",
          "name": "stdout",
          "text": [
            "cat\n",
            "dog\n",
            "monky\n",
            "rabbit\n",
            "[0, 4, 16, 36, 64]\n"
          ]
        }
      ]
    },
    {
      "cell_type": "code",
      "source": [
        "myDictionary={'cat':'cute','dog':'big'}\n",
        "print(myDictionary['cat'])\n",
        "myDictionaryAux={'monkey':'black','mouse':'small','rabit':'white'}\n",
        "myDictionary.update(myDictionaryAux)\n",
        "print(myDictionary)\n",
        "for key, value in myDictionary.items():\n",
        "  #print(key)\n",
        "  print(f'key : {key} Value: {value}')\n",
        "\n",
        "  myList=[1,2,3,4,5,6]\n",
        "  myDictAux1={x:x**2 for x in myList}\n",
        "  print (myDictAux1)\n",
        "\n"
      ],
      "metadata": {
        "colab": {
          "base_uri": "https://localhost:8080/"
        },
        "id": "RhEFvMUFvnKb",
        "outputId": "79f8872a-0f69-4ddf-d232-121382da75a7"
      },
      "execution_count": null,
      "outputs": [
        {
          "output_type": "stream",
          "name": "stdout",
          "text": [
            "cute\n",
            "{'cat': 'cute', 'dog': 'big', 'monkey': 'black', 'mouse': 'small', 'rabit': 'white'}\n",
            "key : cat Value: cute\n",
            "{1: 1, 2: 4, 3: 9, 4: 16, 5: 25, 6: 36}\n",
            "key : dog Value: big\n",
            "{1: 1, 2: 4, 3: 9, 4: 16, 5: 25, 6: 36}\n",
            "key : monkey Value: black\n",
            "{1: 1, 2: 4, 3: 9, 4: 16, 5: 25, 6: 36}\n",
            "key : mouse Value: small\n",
            "{1: 1, 2: 4, 3: 9, 4: 16, 5: 25, 6: 36}\n",
            "key : rabit Value: white\n",
            "{1: 1, 2: 4, 3: 9, 4: 16, 5: 25, 6: 36}\n"
          ]
        }
      ]
    },
    {
      "cell_type": "code",
      "source": [
        "def suma(var1, var2, flag):\n",
        "  if flag==True:\n",
        "    tmp=var1+var2\n",
        "  else:\n",
        "    tmp=var2+var2\n",
        "  #resta\n",
        "  return tmp\n",
        "\n",
        "num1=2\n",
        "num2=7\n",
        "control=True\n",
        "print(suma(num1,num2,control))\n"
      ],
      "metadata": {
        "id": "un0Qhro24Pwr",
        "outputId": "0144e18a-c245-445e-fc95-614bb2f176ad",
        "colab": {
          "base_uri": "https://localhost:8080/"
        }
      },
      "execution_count": null,
      "outputs": [
        {
          "output_type": "stream",
          "name": "stdout",
          "text": [
            "9\n"
          ]
        }
      ]
    },
    {
      "cell_type": "code",
      "source": [
        "listnNumeros=[-1,+1,0]\n",
        "def numero_positivo_negativo(numero):\n",
        " if numero > 0:\n",
        "    print(f'el numero{numero} es positivo')\n",
        " elif numero <0:\n",
        "    print(f'el numero{numero} es negativo')\n",
        " else:\n",
        "    print(f'el numeroes cero')\n",
        "\n",
        "print(numero_positivo_negativo(listnNumeros[2]))\n"
      ],
      "metadata": {
        "id": "BsU_69Cl7u73",
        "outputId": "5bff6640-825a-4184-e720-128e43cee3ae",
        "colab": {
          "base_uri": "https://localhost:8080/"
        }
      },
      "execution_count": null,
      "outputs": [
        {
          "output_type": "stream",
          "name": "stdout",
          "text": [
            "el numeroes cero\n",
            "None\n"
          ]
        }
      ]
    },
    {
      "cell_type": "code",
      "source": [
        "var1= set()\n",
        "var1.add(3)\n",
        "print(var1)\n",
        "var1.add('karen')\n",
        "var1.add(True)\n",
        "var1.add('hola')\n",
        "print(var1)\n",
        "var1.remove('karen')\n",
        "print(var1)\n",
        "\n",
        "print(len(var1))\n",
        "print(3 in var1)\n",
        "\n",
        "for elem in var1:\n",
        "  print(elem)"
      ],
      "metadata": {
        "colab": {
          "base_uri": "https://localhost:8080/"
        },
        "id": "iTfbyPtlxMXI",
        "outputId": "7895be5d-6c7a-4b7d-d8c7-e6240a357c68"
      },
      "execution_count": null,
      "outputs": [
        {
          "output_type": "stream",
          "name": "stdout",
          "text": [
            "{3}\n",
            "{True, 3, 'karen', 'hola'}\n",
            "{True, 3, 'hola'}\n",
            "3\n",
            "True\n",
            "True\n",
            "3\n",
            "hola\n"
          ]
        }
      ]
    },
    {
      "cell_type": "code",
      "source": [
        "#Juples\n",
        "var2=tuple()\n",
        "\n",
        "#crear una variable tupa con elementos adicionales\n",
        "var2=var2+('como', 1, True)\n",
        "print(var2)\n",
        "print(type(var2))\n",
        "\n",
        "var2_lista=list(var2)\n",
        "var2_lista.remove('como')\n",
        "print(var2_lista)\n",
        "\n",
        "\n",
        "\n"
      ],
      "metadata": {
        "colab": {
          "base_uri": "https://localhost:8080/"
        },
        "id": "6_di4YPbzqSg",
        "outputId": "b8c4ea70-990c-4b9a-e117-b500341441ce"
      },
      "execution_count": null,
      "outputs": [
        {
          "output_type": "stream",
          "name": "stdout",
          "text": [
            "('como', 1, True)\n",
            "<class 'tuple'>\n",
            "[1, True]\n"
          ]
        }
      ]
    },
    {
      "cell_type": "code",
      "source": [
        "\n",
        "#hoy to define class\n",
        "class saludo(object):\n",
        "  def __init__(self, name):\n",
        "    print(\"el objeto a sido creado\")\n",
        "    self.name=name\n",
        "\n",
        "  def saludoPersonal(Self):\n",
        "    return f\"hola, {Self.name}\"\n",
        "\n",
        "name1= saludo('karen')\n",
        "name2= saludo('cevallos')\n",
        "name3= saludo('0009')\n",
        "\n",
        "print(name1.saludoPersonal())"
      ],
      "metadata": {
        "colab": {
          "base_uri": "https://localhost:8080/"
        },
        "id": "BBR38iSm2Z1J",
        "outputId": "e83f0939-89a9-4a4b-9ada-b05bc7309f72"
      },
      "execution_count": null,
      "outputs": [
        {
          "output_type": "stream",
          "name": "stdout",
          "text": [
            "el objeto a sido creado\n",
            "el objeto a sido creado\n",
            "el objeto a sido creado\n",
            "hola, karen\n"
          ]
        }
      ]
    },
    {
      "cell_type": "code",
      "source": [
        "import math\n",
        "class FigurasGeometricas:\n",
        "    def __init__(self, radio, base, altura):\n",
        "        self.radio = radio\n",
        "        self.base = base\n",
        "        self.altura = altura\n",
        "\n",
        "\n",
        "    def calcular_area_circulo(self):\n",
        "        area_circulo = math.pi * self.radio ** 2\n",
        "        return area_circulo\n",
        "\n",
        "    def calcular_area_triangulo(self):\n",
        "        area_triangulo = (self.base * self.altura) / 2\n",
        "        return area_triangulo\n",
        "\n",
        "    def calcular_area_cuadrado(self):\n",
        "        area_cuadrado = (self.altura * self.altura)\n",
        "        return area_cuadrado\n",
        "\n",
        "\n",
        "figura = FigurasGeometricas(radio=5, base=6, altura=4)\n",
        "\n",
        "area_circulo = figura.calcular_area_circulo()\n",
        "print(f\"El área del círculo es: {area_circulo:.2f}\")\n",
        "\n",
        "area_triangulo = figura.calcular_area_triangulo()\n",
        "print(f\"El área del triángulo es: {area_triangulo:.2f}\")\n",
        "\n",
        "area_cuadrado = figura.calcular_area_cuadrado()\n",
        "print(f\"El área del cuadrado es: {area_cuadrado:.2f}\")"
      ],
      "metadata": {
        "colab": {
          "base_uri": "https://localhost:8080/"
        },
        "id": "JEQpYirw7Smb",
        "outputId": "bc1416c5-cc3f-4ef9-8bd3-f272f89ea542"
      },
      "execution_count": null,
      "outputs": [
        {
          "output_type": "stream",
          "name": "stdout",
          "text": [
            "El área del círculo es: 78.54\n",
            "El área del triángulo es: 12.00\n",
            "El área del cuadrado es: 16.00\n"
          ]
        }
      ]
    },
    {
      "cell_type": "code",
      "source": [
        "class printingNameAge(object):\n",
        "  def __init__(self, name, age):\n",
        "    print(\"El objeto a sido creado\")\n",
        "    self.name=name\n",
        "    self.age=age\n",
        "\n",
        "def uppercase(self):\n",
        "  return f\"Name: {self.name.upper()} y la edad {self.age}\"\n",
        "\n",
        "estudiante1=printingNameAge('karen',22)\n",
        "\n",
        "print(estudiante1.name)\n",
        "print(estudiante1.age)"
      ],
      "metadata": {
        "colab": {
          "base_uri": "https://localhost:8080/"
        },
        "id": "x7Kk-b9pEG61",
        "outputId": "ddf5cf98-b702-423c-b841-26ea625dc239"
      },
      "execution_count": null,
      "outputs": [
        {
          "output_type": "stream",
          "name": "stdout",
          "text": [
            "El objeto a sido creado\n",
            "karen\n",
            "22\n"
          ]
        }
      ]
    },
    {
      "cell_type": "code",
      "source": [
        "class Calculadora:\n",
        "    def __init__(self, numero1, numero2):\n",
        "        self.numero1 = numero1\n",
        "        self.numero2 = numero2\n",
        "\n",
        "    def sumar(self):\n",
        "        resultado = self.numero1 + self.numero2\n",
        "        print(f\"{self.numero1} + {self.numero2} = {resultado}\")\n",
        "        self.es_par(resultado)\n",
        "\n",
        "    def restar(self):\n",
        "        resultado = self.numero1 - self.numero2\n",
        "        print(f\"{self.numero1} - {self.numero2} = {resultado}\")\n",
        "        self.es_par(resultado)\n",
        "\n",
        "    def multiplicar(self):\n",
        "        resultado = self.numero1 * self.numero2\n",
        "        print(f\"{self.numero1} * {self.numero2} = {resultado}\")\n",
        "        self.es_par(resultado)\n",
        "\n",
        "    def dividir(self):\n",
        "        if self.numero2 == 0:\n",
        "            print(\"Error: división por cero\")\n",
        "        else:\n",
        "            resultado = self.numero1 / self.numero2\n",
        "            print(f\"{self.numero1} / {self.numero2} = {resultado}\")\n",
        "            self.es_par(resultado)\n",
        "\n",
        "    def es_par(self, numero):\n",
        "        if numero % 2 == 0:\n",
        "            print(f\"{numero} es par\")\n",
        "        else:\n",
        "            print(f\"{numero} es impar\")\n",
        "\n",
        "\n",
        "calculadora = Calculadora(10, 5)\n",
        "\n",
        "calculadora.sumar()\n",
        "calculadora.restar()\n",
        "calculadora.multiplicar()\n",
        "calculadora.dividir()"
      ],
      "metadata": {
        "colab": {
          "base_uri": "https://localhost:8080/"
        },
        "id": "gJViXeaCGLDV",
        "outputId": "995bdcbf-4767-4009-a53d-b07c018bf1ec"
      },
      "execution_count": null,
      "outputs": [
        {
          "output_type": "stream",
          "name": "stdout",
          "text": [
            "10 + 5 = 15\n",
            "15 es impar\n",
            "10 - 5 = 5\n",
            "5 es impar\n",
            "10 * 5 = 50\n",
            "50 es par\n",
            "10 / 5 = 2.0\n",
            "2.0 es par\n"
          ]
        }
      ]
    }
  ]
}